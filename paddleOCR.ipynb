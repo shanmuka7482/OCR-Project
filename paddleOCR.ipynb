{
 "cells": [
  {
   "cell_type": "code",
   "execution_count": 1,
   "metadata": {},
   "outputs": [
    {
     "name": "stderr",
     "output_type": "stream",
     "text": [
      "Copying files: 210227 files [13:16, 263.81 files/s]\n"
     ]
    }
   ],
   "source": [
    "import splitfolders \n",
    "input_folder = \"./dataset-new\"\n",
    "output = \"./dataset\" \n",
    "\n",
    "splitfolders.ratio(input_folder, output=output, seed=42, ratio=(.8, .1, .1)) # ratio of split are in order of train/val/test. You can change to whatever you want. For train/val sets only, you could do .75, .25 for example."
   ]
  },
  {
   "cell_type": "code",
   "execution_count": 2,
   "metadata": {},
   "outputs": [],
   "source": [
    "import csv\n",
    "import os\n",
    "# Paths to your datasets\n",
    "test_path = 'dataset/test'\n",
    "train_path = 'dataset/train'\n",
    "validation_path = 'dataset/val'\n",
    "\n",
    "# datset csv file\n",
    "train_csv = 'csv/'\n",
    "test_csv = 'csv/'\n",
    "validation_csv = 'csv/'\n",
    "\n",
    "# file location\n",
    "path = 'D:/code/Projects/OCR-Project/'\n",
    "\n",
    "# Create csv file\n",
    "if not os.path.exists(train_csv):\n",
    "    os.makedirs(train_csv)\n",
    "if not os.path.exists(test_csv):\n",
    "    os.makedirs(test_csv)\n",
    "if not os.path.exists(validation_csv):\n",
    "    os.makedirs(validation_csv)\n"
   ]
  },
  {
   "cell_type": "code",
   "execution_count": 6,
   "metadata": {},
   "outputs": [],
   "source": [
    "# for testing data\n",
    "testing_data = []\n",
    "for folder in os.listdir(test_path):\n",
    "    test_folder_path = os.path.join(test_path, folder)\n",
    "    for file in os.listdir(test_folder_path):\n",
    "        complete_path = os.path.join(path,test_folder_path,file)\n",
    "        if(os.path.exists(complete_path)):\n",
    "            value = folder[0]\n",
    "            testing_data.append({'location':complete_path,'value':value})\n",
    "        else:\n",
    "            print(\"Path Not exist\")\n",
    "testcsv = os.path.join(test_csv,'test.csv')\n",
    "# writing in csv\n",
    "with open(testcsv, 'w', newline='') as csvfile:\n",
    "    fieldnames = ['location', 'value']\n",
    "    writer = csv.DictWriter(csvfile, fieldnames=fieldnames)\n",
    "    writer.writeheader()\n",
    "    writer.writerows(testing_data)"
   ]
  },
  {
   "cell_type": "code",
   "execution_count": 8,
   "metadata": {},
   "outputs": [],
   "source": [
    "\n",
    "training_data = []\n",
    "for folder in os.listdir(train_path):\n",
    "    train_folder_path = os.path.join(train_path, folder)\n",
    "    for file in os.listdir(train_folder_path):\n",
    "        complete_path = os.path.join(path,train_folder_path,file)\n",
    "        if(os.path.exists(complete_path)):\n",
    "            value = folder[0]\n",
    "            training_data.append({'location':complete_path,'value':value})\n",
    "        else:\n",
    "            print(\"Path Not exist\")\n",
    "traincsv = os.path.join(train_csv,'train.csv')\n",
    "# writing in csv\n",
    "with open(traincsv, 'w', newline='') as csvfile:\n",
    "    fieldnames = ['location', 'value']\n",
    "    writer = csv.DictWriter(csvfile, fieldnames=fieldnames)\n",
    "    writer.writeheader()\n",
    "    writer.writerows(training_data)"
   ]
  },
  {
   "cell_type": "code",
   "execution_count": 10,
   "metadata": {},
   "outputs": [],
   "source": [
    "\n",
    "validation_data = []\n",
    "for folder in os.listdir(validation_path):\n",
    "    validation_folder_path = os.path.join(validation_path, folder)\n",
    "    for file in os.listdir(validation_folder_path):\n",
    "        complete_path = os.path.join(path,validation_folder_path,file)\n",
    "        if(os.path.exists(complete_path)):\n",
    "            value = folder[0]\n",
    "            validation_data.append({'location':complete_path,'value':value})\n",
    "        else:\n",
    "            print(\"Path Not exist\")\n",
    "validationcsv = os.path.join(validation_csv,'validation.csv')\n",
    "# writing in csv\n",
    "with open(validationcsv, 'w', newline='') as csvfile:\n",
    "    fieldnames = ['location', 'value']\n",
    "    writer = csv.DictWriter(csvfile, fieldnames=fieldnames)\n",
    "    writer.writeheader()\n",
    "    writer.writerows(validation_data)"
   ]
  },
  {
   "cell_type": "code",
   "execution_count": null,
   "metadata": {},
   "outputs": [],
   "source": []
  },
  {
   "cell_type": "code",
   "execution_count": null,
   "metadata": {},
   "outputs": [],
   "source": []
  }
 ],
 "metadata": {
  "kernelspec": {
   "display_name": "Python 3",
   "language": "python",
   "name": "python3"
  },
  "language_info": {
   "codemirror_mode": {
    "name": "ipython",
    "version": 3
   },
   "file_extension": ".py",
   "mimetype": "text/x-python",
   "name": "python",
   "nbconvert_exporter": "python",
   "pygments_lexer": "ipython3",
   "version": "3.11.4"
  }
 },
 "nbformat": 4,
 "nbformat_minor": 2
}
