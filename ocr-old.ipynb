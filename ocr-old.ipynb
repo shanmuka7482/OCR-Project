{
 "cells": [
  {
   "cell_type": "code",
   "execution_count": 2,
   "metadata": {},
   "outputs": [],
   "source": [
    "import os\n",
    "import cv2\n",
    "import numpy as np\n",
    "from sklearn.model_selection import train_test_split\n",
    "from sklearn.preprocessing import LabelEncoder\n",
    "\n",
    "\n",
    "path = \"./dataset/data/training_data\"\n",
    "\n"
   ]
  },
  {
   "cell_type": "code",
   "execution_count": 3,
   "metadata": {},
   "outputs": [],
   "source": [
    "# loading data\n",
    "images = []\n",
    "labels = []\n",
    "label_names = os.listdir(path)  # List of folder names, which are the labels\n",
    "\n",
    "for label_name in label_names:\n",
    "    label_dir = os.path.join(path, label_name)\n",
    "    \n",
    "    # Ensure that the current path is a directory\n",
    "    if not os.path.isdir(label_dir):\n",
    "        continue\n",
    "\n",
    "    # Loop through each image file in the label directory\n",
    "    for filename in os.listdir(label_dir):\n",
    "        img_path = os.path.join(label_dir, filename)\n",
    "        \n",
    "        # Load the image using OpenCV\n",
    "        img = cv2.imread(img_path, cv2.IMREAD_GRAYSCALE)  # Use cv2.IMREAD_GRAYSCALE for grayscale\n",
    "\n",
    "        if img is not None:\n",
    "            # Resize to a standard size (e.g., 64x64)\n",
    "            img = cv2.resize(img, (64, 64))\n",
    "            \n",
    "            # Append the image and its label to the lists\n",
    "            images.append(img)\n",
    "            labels.append(label_name)\n",
    "\n",
    "\n"
   ]
  },
  {
   "cell_type": "code",
   "execution_count": 4,
   "metadata": {},
   "outputs": [],
   "source": [
    "images = np.array(images)\n",
    "labels = np.array(labels)\n",
    "\n",
    "\n",
    "le = LabelEncoder()\n",
    "labels_encoded = le.fit_transform(labels)\n",
    "\n",
    "\n",
    "X_train, X_test, y_train, y_test = train_test_split(images, labels_encoded, test_size=0.2, random_state=42)\n",
    "\n"
   ]
  },
  {
   "cell_type": "code",
   "execution_count": 5,
   "metadata": {},
   "outputs": [
    {
     "data": {
      "text/plain": [
       "array([[[236, 237, 239, ..., 238, 238, 238],\n",
       "        [237, 238, 239, ..., 237, 237, 237],\n",
       "        [239, 239, 239, ..., 236, 235, 235],\n",
       "        ...,\n",
       "        [231, 222, 205, ..., 184, 203, 214],\n",
       "        [232, 226, 215, ..., 199, 214, 222],\n",
       "        [232, 228, 221, ..., 209, 221, 227]],\n",
       "\n",
       "       [[216, 215, 214, ..., 209, 211, 213],\n",
       "        [217, 216, 213, ..., 204, 209, 211],\n",
       "        [218, 216, 210, ..., 196, 203, 207],\n",
       "        ...,\n",
       "        [217, 217, 217, ..., 214, 213, 213],\n",
       "        [215, 215, 215, ..., 214, 215, 216],\n",
       "        [213, 213, 214, ..., 215, 217, 218]],\n",
       "\n",
       "       [[255, 255, 255, ..., 255, 254, 253],\n",
       "        [255, 254, 254, ..., 254, 254, 254],\n",
       "        [254, 254, 254, ..., 254, 255, 255],\n",
       "        ...,\n",
       "        [254, 254, 254, ..., 254, 254, 253],\n",
       "        [254, 254, 255, ..., 255, 254, 252],\n",
       "        [254, 254, 255, ..., 255, 253, 252]],\n",
       "\n",
       "       ...,\n",
       "\n",
       "       [[211, 211, 210, ..., 209, 207, 207],\n",
       "        [210, 210, 210, ..., 209, 206, 206],\n",
       "        [210, 210, 210, ..., 208, 205, 205],\n",
       "        ...,\n",
       "        [209, 209, 208, ..., 208, 209, 209],\n",
       "        [211, 210, 209, ..., 208, 208, 208],\n",
       "        [213, 212, 210, ..., 208, 208, 208]],\n",
       "\n",
       "       [[221, 221, 223, ..., 225, 226, 226],\n",
       "        [222, 222, 224, ..., 220, 223, 223],\n",
       "        [224, 224, 225, ..., 212, 218, 218],\n",
       "        ...,\n",
       "        [219, 219, 213, ..., 219, 220, 220],\n",
       "        [223, 223, 220, ..., 222, 223, 223],\n",
       "        [226, 226, 224, ..., 225, 225, 225]],\n",
       "\n",
       "       [[251, 251, 250, ..., 250, 252, 253],\n",
       "        [250, 249, 249, ..., 251, 252, 253],\n",
       "        [248, 247, 247, ..., 252, 253, 253],\n",
       "        ...,\n",
       "        [251, 248, 242, ..., 246, 246, 246],\n",
       "        [250, 248, 244, ..., 248, 248, 248],\n",
       "        [250, 249, 245, ..., 250, 249, 249]]], dtype=uint8)"
      ]
     },
     "execution_count": 5,
     "metadata": {},
     "output_type": "execute_result"
    }
   ],
   "source": [
    "X_train"
   ]
  },
  {
   "cell_type": "code",
   "execution_count": 6,
   "metadata": {},
   "outputs": [
    {
     "data": {
      "text/plain": [
       "array([10, 30, 26, ...,  9,  1, 27], dtype=int64)"
      ]
     },
     "execution_count": 6,
     "metadata": {},
     "output_type": "execute_result"
    }
   ],
   "source": [
    "y_train"
   ]
  },
  {
   "cell_type": "code",
   "execution_count": 7,
   "metadata": {},
   "outputs": [],
   "source": [
    "# data loaded - done"
   ]
  }
 ],
 "metadata": {
  "kernelspec": {
   "display_name": "Python 3 (ipykernel)",
   "language": "python",
   "name": "python3"
  },
  "language_info": {
   "codemirror_mode": {
    "name": "ipython",
    "version": 3
   },
   "file_extension": ".py",
   "mimetype": "text/x-python",
   "name": "python",
   "nbconvert_exporter": "python",
   "pygments_lexer": "ipython3",
   "version": "3.12.4"
  }
 },
 "nbformat": 4,
 "nbformat_minor": 4
}
